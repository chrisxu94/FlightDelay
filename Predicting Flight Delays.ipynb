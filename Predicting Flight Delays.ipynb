{
 "cells": [
  {
   "cell_type": "markdown",
   "metadata": {},
   "source": [
    "# Predicting Delayed Flights using Random Forest Classifier\n"
   ]
  },
  {
   "cell_type": "markdown",
   "metadata": {},
   "source": [
    "### Abstract:\n",
    "In this notebook, I will BTS data on \"On Time\" performance of flights in 2014 to train a random forest model to predict flight delays, based on the factors of Month, Airline, Origin Airport, Destination Airport, Scheduled Hour of Departure, Calendar Date, Flight Number, and Day of Week. I then evaluate the performance of our model on the available on-time flight data for 2015. Ultimately, I find that our model has an overall accuracy of 73%, with 88% accuracy on true positives, and around 20% on true negative. Finally, I discuss potential enhancements to potentially increase future performance of the model.\n"
   ]
  },
  {
   "cell_type": "markdown",
   "metadata": {},
   "source": [
    "\n",
    "## Consolidate 2014 data by appending monthly dataframe and creating new indicator variable \"Bad_Indicator\"\n",
    "\n",
    "Our plan is to train on the 2014 data, and test on the 2015 data. The RITA/BTS database only let you download by month, so we will have to concatenate all the months for 2014 into a single dataframe. We are creating a new indicator variable called \"Bad_Indicator\" which will take on value 1 if a flight is either delayed departure or delayed arrival."
   ]
  },
  {
   "cell_type": "code",
   "execution_count": 2,
   "metadata": {
    "collapsed": false
   },
   "outputs": [
    {
     "data": {
      "text/html": [
       "<div>\n",
       "<table border=\"1\" class=\"dataframe\">\n",
       "  <thead>\n",
       "    <tr style=\"text-align: right;\">\n",
       "      <th></th>\n",
       "      <th>YEAR</th>\n",
       "      <th>MONTH</th>\n",
       "      <th>DAY_OF_WEEK</th>\n",
       "      <th>FL_DATE</th>\n",
       "      <th>AIRLINE_ID</th>\n",
       "      <th>FL_NUM</th>\n",
       "      <th>ORIGIN_AIRPORT_ID</th>\n",
       "      <th>ORIGIN_CITY_MARKET_ID</th>\n",
       "      <th>DEST_AIRPORT_ID</th>\n",
       "      <th>DEST_CITY_MARKET_ID</th>\n",
       "      <th>...</th>\n",
       "      <th>DEP_DELAY_GROUP</th>\n",
       "      <th>DEP_TIME_BLK</th>\n",
       "      <th>CRS_ARR_TIME</th>\n",
       "      <th>ARR_DEL15</th>\n",
       "      <th>ARR_DELAY_GROUP</th>\n",
       "      <th>ARR_TIME_BLK</th>\n",
       "      <th>CANCELLED</th>\n",
       "      <th>DIVERTED</th>\n",
       "      <th>Unnamed: 20</th>\n",
       "      <th>Bad_Indicator</th>\n",
       "    </tr>\n",
       "  </thead>\n",
       "  <tbody>\n",
       "    <tr>\n",
       "      <th>0</th>\n",
       "      <td>2014</td>\n",
       "      <td>1</td>\n",
       "      <td>3</td>\n",
       "      <td>2014-01-01</td>\n",
       "      <td>19805</td>\n",
       "      <td>1</td>\n",
       "      <td>12478</td>\n",
       "      <td>31703</td>\n",
       "      <td>12892</td>\n",
       "      <td>32575</td>\n",
       "      <td>...</td>\n",
       "      <td>0</td>\n",
       "      <td>0900-0959</td>\n",
       "      <td>1225</td>\n",
       "      <td>0</td>\n",
       "      <td>0</td>\n",
       "      <td>1200-1259</td>\n",
       "      <td>0</td>\n",
       "      <td>0</td>\n",
       "      <td>NaN</td>\n",
       "      <td>0</td>\n",
       "    </tr>\n",
       "    <tr>\n",
       "      <th>1</th>\n",
       "      <td>2014</td>\n",
       "      <td>1</td>\n",
       "      <td>4</td>\n",
       "      <td>2014-01-02</td>\n",
       "      <td>19805</td>\n",
       "      <td>1</td>\n",
       "      <td>12478</td>\n",
       "      <td>31703</td>\n",
       "      <td>12892</td>\n",
       "      <td>32575</td>\n",
       "      <td>...</td>\n",
       "      <td>-1</td>\n",
       "      <td>0900-0959</td>\n",
       "      <td>1225</td>\n",
       "      <td>0</td>\n",
       "      <td>0</td>\n",
       "      <td>1200-1259</td>\n",
       "      <td>0</td>\n",
       "      <td>0</td>\n",
       "      <td>NaN</td>\n",
       "      <td>0</td>\n",
       "    </tr>\n",
       "    <tr>\n",
       "      <th>2</th>\n",
       "      <td>2014</td>\n",
       "      <td>1</td>\n",
       "      <td>5</td>\n",
       "      <td>2014-01-03</td>\n",
       "      <td>19805</td>\n",
       "      <td>1</td>\n",
       "      <td>12478</td>\n",
       "      <td>31703</td>\n",
       "      <td>12892</td>\n",
       "      <td>32575</td>\n",
       "      <td>...</td>\n",
       "      <td>NaN</td>\n",
       "      <td>0900-0959</td>\n",
       "      <td>1225</td>\n",
       "      <td>NaN</td>\n",
       "      <td>NaN</td>\n",
       "      <td>1200-1259</td>\n",
       "      <td>1</td>\n",
       "      <td>0</td>\n",
       "      <td>NaN</td>\n",
       "      <td>0</td>\n",
       "    </tr>\n",
       "    <tr>\n",
       "      <th>3</th>\n",
       "      <td>2014</td>\n",
       "      <td>1</td>\n",
       "      <td>6</td>\n",
       "      <td>2014-01-04</td>\n",
       "      <td>19805</td>\n",
       "      <td>1</td>\n",
       "      <td>12478</td>\n",
       "      <td>31703</td>\n",
       "      <td>12892</td>\n",
       "      <td>32575</td>\n",
       "      <td>...</td>\n",
       "      <td>4</td>\n",
       "      <td>0900-0959</td>\n",
       "      <td>1225</td>\n",
       "      <td>1</td>\n",
       "      <td>3</td>\n",
       "      <td>1200-1259</td>\n",
       "      <td>0</td>\n",
       "      <td>0</td>\n",
       "      <td>NaN</td>\n",
       "      <td>1</td>\n",
       "    </tr>\n",
       "    <tr>\n",
       "      <th>4</th>\n",
       "      <td>2014</td>\n",
       "      <td>1</td>\n",
       "      <td>7</td>\n",
       "      <td>2014-01-05</td>\n",
       "      <td>19805</td>\n",
       "      <td>1</td>\n",
       "      <td>12478</td>\n",
       "      <td>31703</td>\n",
       "      <td>12892</td>\n",
       "      <td>32575</td>\n",
       "      <td>...</td>\n",
       "      <td>7</td>\n",
       "      <td>0900-0959</td>\n",
       "      <td>1225</td>\n",
       "      <td>1</td>\n",
       "      <td>7</td>\n",
       "      <td>1200-1259</td>\n",
       "      <td>0</td>\n",
       "      <td>0</td>\n",
       "      <td>NaN</td>\n",
       "      <td>1</td>\n",
       "    </tr>\n",
       "  </tbody>\n",
       "</table>\n",
       "<p>5 rows × 22 columns</p>\n",
       "</div>"
      ],
      "text/plain": [
       "   YEAR  MONTH  DAY_OF_WEEK     FL_DATE  AIRLINE_ID  FL_NUM  \\\n",
       "0  2014      1            3  2014-01-01       19805       1   \n",
       "1  2014      1            4  2014-01-02       19805       1   \n",
       "2  2014      1            5  2014-01-03       19805       1   \n",
       "3  2014      1            6  2014-01-04       19805       1   \n",
       "4  2014      1            7  2014-01-05       19805       1   \n",
       "\n",
       "   ORIGIN_AIRPORT_ID  ORIGIN_CITY_MARKET_ID  DEST_AIRPORT_ID  \\\n",
       "0              12478                  31703            12892   \n",
       "1              12478                  31703            12892   \n",
       "2              12478                  31703            12892   \n",
       "3              12478                  31703            12892   \n",
       "4              12478                  31703            12892   \n",
       "\n",
       "   DEST_CITY_MARKET_ID      ...        DEP_DELAY_GROUP  DEP_TIME_BLK  \\\n",
       "0                32575      ...                      0     0900-0959   \n",
       "1                32575      ...                     -1     0900-0959   \n",
       "2                32575      ...                    NaN     0900-0959   \n",
       "3                32575      ...                      4     0900-0959   \n",
       "4                32575      ...                      7     0900-0959   \n",
       "\n",
       "   CRS_ARR_TIME ARR_DEL15  ARR_DELAY_GROUP  ARR_TIME_BLK  CANCELLED DIVERTED  \\\n",
       "0          1225         0                0     1200-1259          0        0   \n",
       "1          1225         0                0     1200-1259          0        0   \n",
       "2          1225       NaN              NaN     1200-1259          1        0   \n",
       "3          1225         1                3     1200-1259          0        0   \n",
       "4          1225         1                7     1200-1259          0        0   \n",
       "\n",
       "   Unnamed: 20  Bad_Indicator  \n",
       "0          NaN              0  \n",
       "1          NaN              0  \n",
       "2          NaN              0  \n",
       "3          NaN              1  \n",
       "4          NaN              1  \n",
       "\n",
       "[5 rows x 22 columns]"
      ]
     },
     "execution_count": 2,
     "metadata": {},
     "output_type": "execute_result"
    }
   ],
   "source": [
    "import pandas as pd\n",
    "import matplotlib.pyplot as plt\n",
    "\n",
    "df1 = pd.read_csv('1-14.csv', dtype={'DEP_TIME_BLK':object})\n",
    "df2 = pd.read_csv('2-14.csv', dtype={'DEP_TIME_BLK':object})\n",
    "df3 = pd.read_csv('3-14.csv', dtype={'DEP_TIME_BLK':object})\n",
    "df4 = pd.read_csv('4-14.csv', dtype={'DEP_TIME_BLK':object})\n",
    "df5 = pd.read_csv('5-14.csv', dtype={'DEP_TIME_BLK':object})\n",
    "df6 = pd.read_csv('6-14.csv', dtype={'DEP_TIME_BLK':object})\n",
    "df7 = pd.read_csv('7-14.csv', dtype={'DEP_TIME_BLK':object})\n",
    "df8 = pd.read_csv('8-14.csv', dtype={'DEP_TIME_BLK':object})\n",
    "df9 = pd.read_csv('9-14.csv', dtype={'DEP_TIME_BLK':object})\n",
    "df10 = pd.read_csv('10-14.csv', dtype={'DEP_TIME_BLK':object})\n",
    "df11 = pd.read_csv('11-14.csv', dtype={'DEP_TIME_BLK':object})\n",
    "df12 = pd.read_csv('12-14.csv', dtype={'DEP_TIME_BLK':object})\n",
    "\n",
    "frames = [df1,df2,df3,df4,df5,df6,df7,df8,df9,df10,df11,df12]\n",
    "df = pd.concat(frames)\n",
    "#create new column variable which will be 1 if flight is delayed in departure or delayed in arrival\n",
    "df['Bad_Indicator'] = ((df['DEP_DEL15'] == 1) | (df['ARR_DEL15'] == 1)).astype(int)\n",
    "df.head()\n"
   ]
  },
  {
   "cell_type": "code",
   "execution_count": 40,
   "metadata": {
    "collapsed": false
   },
   "outputs": [
    {
     "data": {
      "text/plain": [
       "(5819811, 22)"
      ]
     },
     "execution_count": 40,
     "metadata": {},
     "output_type": "execute_result"
    }
   ],
   "source": [
    "df.shape   #shape of data"
   ]
  },
  {
   "cell_type": "code",
   "execution_count": 41,
   "metadata": {
    "collapsed": false
   },
   "outputs": [
    {
     "data": {
      "text/plain": [
       "Index([u'YEAR', u'MONTH', u'DAY_OF_WEEK', u'FL_DATE', u'AIRLINE_ID', u'FL_NUM',\n",
       "       u'ORIGIN_AIRPORT_ID', u'ORIGIN_CITY_MARKET_ID', u'DEST_AIRPORT_ID',\n",
       "       u'DEST_CITY_MARKET_ID', u'CRS_DEP_TIME', u'DEP_DEL15',\n",
       "       u'DEP_DELAY_GROUP', u'DEP_TIME_BLK', u'CRS_ARR_TIME', u'ARR_DEL15',\n",
       "       u'ARR_DELAY_GROUP', u'ARR_TIME_BLK', u'CANCELLED', u'DIVERTED',\n",
       "       u'Unnamed: 20', u'Bad_Indicator'],\n",
       "      dtype='object')"
      ]
     },
     "execution_count": 41,
     "metadata": {},
     "output_type": "execute_result"
    }
   ],
   "source": [
    "df.columns  #view column data"
   ]
  },
  {
   "cell_type": "markdown",
   "metadata": {
    "collapsed": false
   },
   "source": [
    "#### We have data for 5.8 million flights in 2014, with 22 fields for each flight. Again, Bad_Indicator is an indicator whether or not a flight was delayed, so we will focus on that."
   ]
  },
  {
   "cell_type": "markdown",
   "metadata": {},
   "source": [
    "## Now that we have the 2014 dataset, let's play around with it and visualize some relationships. \n",
    "#### Let's see delays (the indicator variable \"Bad_Indicator\", whether a delay was over 15 minutes) as a function of some variables that we intuitively think are important to predicting delays.\n",
    "#### I hypothesize that we shall see significant variance of delays against month, day of the week, carrier, flight number, day of the year (for example, Thanksgiving flights), and departure time blocks (for example, earlier morning flights might be delayed more)."
   ]
  },
  {
   "cell_type": "markdown",
   "metadata": {},
   "source": [
    "### January and June are the worst months with almost 30% delay rate. September is the best month with around 20% delay rate"
   ]
  },
  {
   "cell_type": "code",
   "execution_count": 5,
   "metadata": {
    "collapsed": false
   },
   "outputs": [
    {
     "data": {
      "text/plain": [
       "<matplotlib.axes._subplots.AxesSubplot at 0x10af6fbd0>"
      ]
     },
     "execution_count": 5,
     "metadata": {},
     "output_type": "execute_result"
    },
    {
     "data": {
      "image/png": "[encoded data removed]",
      "text/plain": [
       "<matplotlib.figure.Figure at 0x10af6f190>"
      ]
     },
     "metadata": {},
     "output_type": "display_data"
    }
   ],
   "source": [
    "%matplotlib inline\n",
    "# Compute average number of delayed flights per month\n",
    "permonth = df[['Bad_Indicator', 'MONTH']].groupby('MONTH').mean()\n",
    "\n",
    "# plot average delays by month\n",
    "permonth.plot(kind='bar')"
   ]
  },
  {
   "cell_type": "markdown",
   "metadata": {},
   "source": [
    "### Southwest and United Airlines are the worst carriers (around 30% delay rate)"
   ]
  },
  {
   "cell_type": "code",
   "execution_count": 6,
   "metadata": {
    "collapsed": false
   },
   "outputs": [
    {
     "data": {
      "text/plain": [
       "<matplotlib.axes._subplots.AxesSubplot at 0x10b150150>"
      ]
     },
     "execution_count": 6,
     "metadata": {},
     "output_type": "execute_result"
    },
    {
     "data": {
      "image/png": "[encoded data removed]",
      "text/plain": [
       "<matplotlib.figure.Figure at 0x104882650>"
      ]
     },
     "metadata": {},
     "output_type": "display_data"
    }
   ],
   "source": [
    "#sort carriers by average delay rate, in descending order\n",
    "grouped2 = df[['Bad_Indicator', 'AIRLINE_ID']].groupby('AIRLINE_ID').mean()\n",
    "carrier = grouped2.sort_values(by='Bad_Indicator', ascending=False)\n",
    "\n",
    "#plot all carriers (only 14)\n",
    "carrier.plot(kind='bar')"
   ]
  },
  {
   "cell_type": "markdown",
   "metadata": {},
   "source": [
    "## Some flight numbers are historically very bad, with almost a thousand of delays in a year. \n",
    "Of course, this potentially could just be because those flights fly more often than others. Still, the average number of delays in a year is 218, so our evidence shows that there is wide variation of delay based on flight number."
   ]
  },
  {
   "cell_type": "code",
   "execution_count": 28,
   "metadata": {
    "collapsed": false
   },
   "outputs": [
    {
     "data": {
      "text/plain": [
       "<matplotlib.axes._subplots.AxesSubplot at 0x1a278bb90>"
      ]
     },
     "execution_count": 28,
     "metadata": {},
     "output_type": "execute_result"
    },
    {
     "data": {
      "image/png": "[encoded data removed]",
      "text/plain": [
       "<matplotlib.figure.Figure at 0x1a278ed10>"
      ]
     },
     "metadata": {},
     "output_type": "display_data"
    }
   ],
   "source": [
    "# Compute number of delayed flights by flight number, for flight numbers with over 365 delays\n",
    "grouped1 = df[['Bad_Indicator', 'FL_NUM']].groupby('FL_NUM').sum()\n",
    "fl_num = grouped1.sort_values(by='Bad_Indicator', ascending=False)\n",
    "\n",
    "#plot top 15 worst flight numbers (most delays)\n",
    "fl_num[:15].plot(kind='bar')"
   ]
  },
  {
   "cell_type": "code",
   "execution_count": 182,
   "metadata": {
    "collapsed": false
   },
   "outputs": [
    {
     "data": {
      "text/html": [
       "<div>\n",
       "<table border=\"1\" class=\"dataframe\">\n",
       "  <thead>\n",
       "    <tr style=\"text-align: right;\">\n",
       "      <th></th>\n",
       "      <th>Bad_Indicator</th>\n",
       "    </tr>\n",
       "  </thead>\n",
       "  <tbody>\n",
       "    <tr>\n",
       "      <th>count</th>\n",
       "      <td>6688.000000</td>\n",
       "    </tr>\n",
       "    <tr>\n",
       "      <th>mean</th>\n",
       "      <td>218.926585</td>\n",
       "    </tr>\n",
       "    <tr>\n",
       "      <th>std</th>\n",
       "      <td>161.285024</td>\n",
       "    </tr>\n",
       "    <tr>\n",
       "      <th>min</th>\n",
       "      <td>0.000000</td>\n",
       "    </tr>\n",
       "    <tr>\n",
       "      <th>25%</th>\n",
       "      <td>101.000000</td>\n",
       "    </tr>\n",
       "    <tr>\n",
       "      <th>50%</th>\n",
       "      <td>181.000000</td>\n",
       "    </tr>\n",
       "    <tr>\n",
       "      <th>75%</th>\n",
       "      <td>299.000000</td>\n",
       "    </tr>\n",
       "    <tr>\n",
       "      <th>max</th>\n",
       "      <td>1044.000000</td>\n",
       "    </tr>\n",
       "  </tbody>\n",
       "</table>\n",
       "</div>"
      ],
      "text/plain": [
       "       Bad_Indicator\n",
       "count    6688.000000\n",
       "mean      218.926585\n",
       "std       161.285024\n",
       "min         0.000000\n",
       "25%       101.000000\n",
       "50%       181.000000\n",
       "75%       299.000000\n",
       "max      1044.000000"
      ]
     },
     "execution_count": 182,
     "metadata": {},
     "output_type": "execute_result"
    }
   ],
   "source": [
    "fl_num.describe() #for a given flight number, the average number of delayed flights in a year is 218"
   ]
  },
  {
   "cell_type": "markdown",
   "metadata": {},
   "source": [
    "### There's a significant difference is flight delays by calendar date. January 15th had 8000 flights delayed. December 8th had 1200. \n",
    "Of course, we should take this with a grain of salt since this is all from 2014 so there might be local cause of this variance, so it might not have the best predictive power on 2015. But if we were to incorporate 2013 data in as well (which I will recommend later), this effect will be dampened. "
   ]
  },
  {
   "cell_type": "code",
   "execution_count": 8,
   "metadata": {
    "collapsed": false
   },
   "outputs": [
    {
     "data": {
      "text/plain": [
       "<matplotlib.axes._subplots.AxesSubplot at 0x10b67efd0>"
      ]
     },
     "execution_count": 8,
     "metadata": {},
     "output_type": "execute_result"
    },
    {
     "data": {
      "image/png": "[encoded data removed]",
      "text/plain": [
       "<matplotlib.figure.Figure at 0x1070f2390>"
      ]
     },
     "metadata": {},
     "output_type": "display_data"
    },
    {
     "data": {
      "image/png": "[encoded data removed]",
      "text/plain": [
       "<matplotlib.figure.Figure at 0x10b463a90>"
      ]
     },
     "metadata": {},
     "output_type": "display_data"
    }
   ],
   "source": [
    "# Compute total number of delayed flights by calendar day\n",
    "grouped1 = df[['Bad_Indicator', 'FL_DATE']].groupby('FL_DATE').filter(lambda x: len(x)>100)\n",
    "grouped2 = grouped1.groupby('FL_DATE').sum()\n",
    "date = grouped2.sort_values(by='Bad_Indicator', ascending=False)\n",
    "\n",
    "#plot top 15 worst calendar days (most flights delayed)\n",
    "date[:15].plot(kind='bar')\n",
    "date[-15:].plot(kind='bar')"
   ]
  },
  {
   "cell_type": "code",
   "execution_count": 78,
   "metadata": {
    "collapsed": false
   },
   "outputs": [
    {
     "data": {
      "text/html": [
       "<div>\n",
       "<table border=\"1\" class=\"dataframe\">\n",
       "  <thead>\n",
       "    <tr style=\"text-align: right;\">\n",
       "      <th></th>\n",
       "      <th>Bad_Indicator</th>\n",
       "    </tr>\n",
       "  </thead>\n",
       "  <tbody>\n",
       "    <tr>\n",
       "      <th>count</th>\n",
       "      <td>365.000000</td>\n",
       "    </tr>\n",
       "    <tr>\n",
       "      <th>mean</th>\n",
       "      <td>4011.454795</td>\n",
       "    </tr>\n",
       "    <tr>\n",
       "      <th>std</th>\n",
       "      <td>1373.874573</td>\n",
       "    </tr>\n",
       "    <tr>\n",
       "      <th>min</th>\n",
       "      <td>1219.000000</td>\n",
       "    </tr>\n",
       "    <tr>\n",
       "      <th>25%</th>\n",
       "      <td>3022.000000</td>\n",
       "    </tr>\n",
       "    <tr>\n",
       "      <th>50%</th>\n",
       "      <td>3881.000000</td>\n",
       "    </tr>\n",
       "    <tr>\n",
       "      <th>75%</th>\n",
       "      <td>4881.000000</td>\n",
       "    </tr>\n",
       "    <tr>\n",
       "      <th>max</th>\n",
       "      <td>8046.000000</td>\n",
       "    </tr>\n",
       "  </tbody>\n",
       "</table>\n",
       "</div>"
      ],
      "text/plain": [
       "       Bad_Indicator\n",
       "count     365.000000\n",
       "mean     4011.454795\n",
       "std      1373.874573\n",
       "min      1219.000000\n",
       "25%      3022.000000\n",
       "50%      3881.000000\n",
       "75%      4881.000000\n",
       "max      8046.000000"
      ]
     },
     "execution_count": 78,
     "metadata": {},
     "output_type": "execute_result"
    }
   ],
   "source": [
    "date.describe()"
   ]
  },
  {
   "cell_type": "markdown",
   "metadata": {},
   "source": [
    "## Day of the week doesn't seem to be correlated very strongly with number of delays"
   ]
  },
  {
   "cell_type": "code",
   "execution_count": 9,
   "metadata": {
    "collapsed": false
   },
   "outputs": [
    {
     "data": {
      "text/plain": [
       "<matplotlib.axes._subplots.AxesSubplot at 0x10b605f90>"
      ]
     },
     "execution_count": 9,
     "metadata": {},
     "output_type": "execute_result"
    },
    {
     "data": {
      "image/png": "[encoded data removed]",
      "text/plain": [
       "<matplotlib.figure.Figure at 0x107089810>"
      ]
     },
     "metadata": {},
     "output_type": "display_data"
    }
   ],
   "source": [
    "# Compute average number of delayed flights per day of the week\n",
    "permonth = df[['Bad_Indicator', 'DAY_OF_WEEK']].groupby('DAY_OF_WEEK').mean()\n",
    "\n",
    "# plot average delays by month\n",
    "permonth.plot(kind='bar')"
   ]
  },
  {
   "cell_type": "markdown",
   "metadata": {},
   "source": [
    "## What times of day are most likely to be delayed? Looks like late afternoon: 5pm-9pm. Earlier flights are actually less likely to be delayed."
   ]
  },
  {
   "cell_type": "code",
   "execution_count": 10,
   "metadata": {
    "collapsed": false
   },
   "outputs": [
    {
     "data": {
      "text/plain": [
       "<matplotlib.axes._subplots.AxesSubplot at 0x10c1199d0>"
      ]
     },
     "execution_count": 10,
     "metadata": {},
     "output_type": "execute_result"
    },
    {
     "data": {
      "image/png": "[encoded data removed]",
      "text/plain": [
       "<matplotlib.figure.Figure at 0x10afc7890>"
      ]
     },
     "metadata": {},
     "output_type": "display_data"
    }
   ],
   "source": [
    "# Compute total number of delayed flights by departure hour\n",
    "grouped1 = df[['Bad_Indicator', 'DEP_TIME_BLK']].groupby('DEP_TIME_BLK').filter(lambda x: len(x)>100)\n",
    "grouped2 = grouped1.groupby('DEP_TIME_BLK').mean()\n",
    "hours = grouped2.sort_values(by='Bad_Indicator', ascending=False)\n",
    "\n",
    "hours.plot(kind='bar')\n"
   ]
  },
  {
   "cell_type": "markdown",
   "metadata": {},
   "source": [
    "## Let's create a new dummy variable \"Bad_Hour\" to encode whether or not the scheduled departure hour has an average delay rate of over 30%.  \n",
    "I found through trial and error that using a higher threshold of 30% (as opposed to the mean of around 25%) gives this variable more predictive power at predicting true negatives. "
   ]
  },
  {
   "cell_type": "code",
   "execution_count": 108,
   "metadata": {
    "collapsed": false
   },
   "outputs": [
    {
     "data": {
      "text/plain": [
       "Index([u'2000-2059', u'1900-1959', u'1800-1859', u'2100-2159', u'1700-1759',\n",
       "       u'1600-1659', u'1500-1559'],\n",
       "      dtype='object', name=u'DEP_TIME_BLK')"
      ]
     },
     "execution_count": 108,
     "metadata": {},
     "output_type": "execute_result"
    }
   ],
   "source": [
    "high_hours = hours[hours['Bad_Indicator']>0.30]['Bad_Indicator'].index\n",
    "high_hours"
   ]
  },
  {
   "cell_type": "code",
   "execution_count": 125,
   "metadata": {
    "collapsed": false
   },
   "outputs": [],
   "source": [
    "dummies = pd.get_dummies(df['DEP_TIME_BLK'])"
   ]
  },
  {
   "cell_type": "code",
   "execution_count": 110,
   "metadata": {
    "collapsed": false
   },
   "outputs": [
    {
     "data": {
      "text/html": [
       "<div>\n",
       "<table border=\"1\" class=\"dataframe\">\n",
       "  <thead>\n",
       "    <tr style=\"text-align: right;\">\n",
       "      <th></th>\n",
       "      <th>DEP_TIME_BLK</th>\n",
       "      <th>Bad_Hour</th>\n",
       "    </tr>\n",
       "  </thead>\n",
       "  <tbody>\n",
       "    <tr>\n",
       "      <th>477178</th>\n",
       "      <td>1400-1459</td>\n",
       "      <td>0</td>\n",
       "    </tr>\n",
       "    <tr>\n",
       "      <th>477179</th>\n",
       "      <td>1800-1859</td>\n",
       "      <td>1</td>\n",
       "    </tr>\n",
       "    <tr>\n",
       "      <th>477180</th>\n",
       "      <td>0900-0959</td>\n",
       "      <td>0</td>\n",
       "    </tr>\n",
       "    <tr>\n",
       "      <th>477181</th>\n",
       "      <td>1500-1559</td>\n",
       "      <td>1</td>\n",
       "    </tr>\n",
       "    <tr>\n",
       "      <th>477182</th>\n",
       "      <td>1200-1259</td>\n",
       "      <td>0</td>\n",
       "    </tr>\n",
       "  </tbody>\n",
       "</table>\n",
       "</div>"
      ],
      "text/plain": [
       "       DEP_TIME_BLK  Bad_Hour\n",
       "477178    1400-1459         0\n",
       "477179    1800-1859         1\n",
       "477180    0900-0959         0\n",
       "477181    1500-1559         1\n",
       "477182    1200-1259         0"
      ]
     },
     "execution_count": 110,
     "metadata": {},
     "output_type": "execute_result"
    }
   ],
   "source": [
    "df['Bad_Hour'] = ((dummies['2000-2059'] == 1) | (dummies['1900-1959'] == 1) | (dummies['1800-1859'] == 1) | (dummies['2100-2159'] == 1) | (dummies['1700-1759'] == 1) | (dummies['1600-1659'] == 1) | (dummies['1500-1559'] == 1 | (dummies['1400-1459'] == 1) | (dummies['1300-1359'] == 1) | (dummies['2200-2259'] == 1) )).astype(int)\n",
    "df[['DEP_TIME_BLK', 'Bad_Hour']].tail()"
   ]
  },
  {
   "cell_type": "markdown",
   "metadata": {},
   "source": [
    "# Similarly, let's create an indicator variable whether or not a flight flies on a calendar day that is historically bad.\n",
    "6500 and over contains less than 20% of the population, and everything above that will have value 1. Again, having a higher threshold yields more predicitive power of true negatives."
   ]
  },
  {
   "cell_type": "code",
   "execution_count": 111,
   "metadata": {
    "collapsed": false
   },
   "outputs": [
    {
     "data": {
      "text/plain": [
       "Index([u'2014-01-05', u'2014-01-02', u'2014-01-06', u'2014-01-03',\n",
       "       u'2014-01-04', u'2014-12-23', u'2014-02-21', u'2014-06-19',\n",
       "       u'2014-11-17', u'2014-06-12'],\n",
       "      dtype='object', name=u'FL_DATE')"
      ]
     },
     "execution_count": 111,
     "metadata": {},
     "output_type": "execute_result"
    }
   ],
   "source": [
    "bad_days = date[date['Bad_Indicator']>6500]['Bad_Indicator'].index\n",
    "bad_days[:10]"
   ]
  },
  {
   "cell_type": "code",
   "execution_count": 112,
   "metadata": {
    "collapsed": false
   },
   "outputs": [
    {
     "data": {
      "text/html": [
       "<div>\n",
       "<table border=\"1\" class=\"dataframe\">\n",
       "  <thead>\n",
       "    <tr style=\"text-align: right;\">\n",
       "      <th></th>\n",
       "      <th>FL_DATE</th>\n",
       "      <th>Bad_Day</th>\n",
       "    </tr>\n",
       "  </thead>\n",
       "  <tbody>\n",
       "    <tr>\n",
       "      <th>0</th>\n",
       "      <td>2014-01-01</td>\n",
       "      <td>0</td>\n",
       "    </tr>\n",
       "    <tr>\n",
       "      <th>1</th>\n",
       "      <td>2014-01-02</td>\n",
       "      <td>0</td>\n",
       "    </tr>\n",
       "    <tr>\n",
       "      <th>2</th>\n",
       "      <td>2014-01-03</td>\n",
       "      <td>0</td>\n",
       "    </tr>\n",
       "    <tr>\n",
       "      <th>3</th>\n",
       "      <td>2014-01-04</td>\n",
       "      <td>0</td>\n",
       "    </tr>\n",
       "    <tr>\n",
       "      <th>4</th>\n",
       "      <td>2014-01-05</td>\n",
       "      <td>0</td>\n",
       "    </tr>\n",
       "  </tbody>\n",
       "</table>\n",
       "</div>"
      ],
      "text/plain": [
       "      FL_DATE  Bad_Day\n",
       "0  2014-01-01        0\n",
       "1  2014-01-02        0\n",
       "2  2014-01-03        0\n",
       "3  2014-01-04        0\n",
       "4  2014-01-05        0"
      ]
     },
     "execution_count": 112,
     "metadata": {},
     "output_type": "execute_result"
    }
   ],
   "source": [
    "df['Bad_Day'] = (df['FL_DATE'].values[0] in bad_days)#.astype(int)\n",
    "df['Bad_Day'] = df['Bad_Day'].astype(int)\n",
    "df[['FL_DATE', 'Bad_Day']].head()"
   ]
  },
  {
   "cell_type": "markdown",
   "metadata": {},
   "source": [
    "# Finally, let's do the same thing for flight numbers. Encode all the historically bad flight numbers in an indicator variable."
   ]
  },
  {
   "cell_type": "code",
   "execution_count": 113,
   "metadata": {
    "collapsed": false
   },
   "outputs": [
    {
     "data": {
      "text/plain": [
       "Int64Index([35, 23, 16, 12, 15, 362, 302, 34, 424, 1983], dtype='int64', name=u'FL_NUM')"
      ]
     },
     "execution_count": 113,
     "metadata": {},
     "output_type": "execute_result"
    }
   ],
   "source": [
    "bad_flights = fl_num[fl_num['Bad_Indicator']>350]['Bad_Indicator'].index #top 25 percentile of bad flights\n",
    "bad_flights[:10]"
   ]
  },
  {
   "cell_type": "code",
   "execution_count": 114,
   "metadata": {
    "collapsed": false
   },
   "outputs": [
    {
     "data": {
      "text/html": [
       "<div>\n",
       "<table border=\"1\" class=\"dataframe\">\n",
       "  <thead>\n",
       "    <tr style=\"text-align: right;\">\n",
       "      <th></th>\n",
       "      <th>FL_NUM</th>\n",
       "      <th>Bad_Flight</th>\n",
       "    </tr>\n",
       "  </thead>\n",
       "  <tbody>\n",
       "    <tr>\n",
       "      <th>477178</th>\n",
       "      <td>2180</td>\n",
       "      <td>1</td>\n",
       "    </tr>\n",
       "    <tr>\n",
       "      <th>477179</th>\n",
       "      <td>3128</td>\n",
       "      <td>1</td>\n",
       "    </tr>\n",
       "    <tr>\n",
       "      <th>477180</th>\n",
       "      <td>3317</td>\n",
       "      <td>1</td>\n",
       "    </tr>\n",
       "    <tr>\n",
       "      <th>477181</th>\n",
       "      <td>4996</td>\n",
       "      <td>1</td>\n",
       "    </tr>\n",
       "    <tr>\n",
       "      <th>477182</th>\n",
       "      <td>178</td>\n",
       "      <td>1</td>\n",
       "    </tr>\n",
       "  </tbody>\n",
       "</table>\n",
       "</div>"
      ],
      "text/plain": [
       "        FL_NUM  Bad_Flight\n",
       "477178    2180           1\n",
       "477179    3128           1\n",
       "477180    3317           1\n",
       "477181    4996           1\n",
       "477182     178           1"
      ]
     },
     "execution_count": 114,
     "metadata": {},
     "output_type": "execute_result"
    }
   ],
   "source": [
    "df['Bad_Flight'] = (df['FL_NUM'].values[0] in bad_flights)\n",
    "df['Bad_Flight'] = df['Bad_Flight'].astype(int)\n",
    "df[['FL_NUM', 'Bad_Flight']].tail()"
   ]
  },
  {
   "cell_type": "markdown",
   "metadata": {},
   "source": [
    "# Now we shall consolidate the 2015 data\n",
    "Similarly, we need to consolidate the 2015 data set to test our model on (only have data for 2015 up to and including September 2015)."
   ]
  },
  {
   "cell_type": "code",
   "execution_count": 115,
   "metadata": {
    "collapsed": false
   },
   "outputs": [
    {
     "data": {
      "text/html": [
       "<div>\n",
       "<table border=\"1\" class=\"dataframe\">\n",
       "  <thead>\n",
       "    <tr style=\"text-align: right;\">\n",
       "      <th></th>\n",
       "      <th>YEAR</th>\n",
       "      <th>MONTH</th>\n",
       "      <th>DAY_OF_WEEK</th>\n",
       "      <th>FL_DATE</th>\n",
       "      <th>AIRLINE_ID</th>\n",
       "      <th>FL_NUM</th>\n",
       "      <th>ORIGIN_AIRPORT_ID</th>\n",
       "      <th>ORIGIN_CITY_MARKET_ID</th>\n",
       "      <th>DEST_AIRPORT_ID</th>\n",
       "      <th>DEST_CITY_MARKET_ID</th>\n",
       "      <th>...</th>\n",
       "      <th>ARR_DEL15</th>\n",
       "      <th>ARR_DELAY_GROUP</th>\n",
       "      <th>ARR_TIME_BLK</th>\n",
       "      <th>CANCELLED</th>\n",
       "      <th>DIVERTED</th>\n",
       "      <th>Unnamed: 20</th>\n",
       "      <th>Bad_Indicator</th>\n",
       "      <th>Bad_Hour</th>\n",
       "      <th>Bad_Day</th>\n",
       "      <th>Bad_Flight</th>\n",
       "    </tr>\n",
       "  </thead>\n",
       "  <tbody>\n",
       "    <tr>\n",
       "      <th>0</th>\n",
       "      <td>2015</td>\n",
       "      <td>2</td>\n",
       "      <td>7</td>\n",
       "      <td>2015-02-01</td>\n",
       "      <td>19805</td>\n",
       "      <td>1</td>\n",
       "      <td>12478</td>\n",
       "      <td>31703</td>\n",
       "      <td>12892</td>\n",
       "      <td>32575</td>\n",
       "      <td>...</td>\n",
       "      <td>0</td>\n",
       "      <td>-2</td>\n",
       "      <td>1200-1259</td>\n",
       "      <td>0</td>\n",
       "      <td>0</td>\n",
       "      <td>NaN</td>\n",
       "      <td>0</td>\n",
       "      <td>0</td>\n",
       "      <td>0</td>\n",
       "      <td>1</td>\n",
       "    </tr>\n",
       "    <tr>\n",
       "      <th>1</th>\n",
       "      <td>2015</td>\n",
       "      <td>2</td>\n",
       "      <td>1</td>\n",
       "      <td>2015-02-02</td>\n",
       "      <td>19805</td>\n",
       "      <td>1</td>\n",
       "      <td>12478</td>\n",
       "      <td>31703</td>\n",
       "      <td>12892</td>\n",
       "      <td>32575</td>\n",
       "      <td>...</td>\n",
       "      <td>NaN</td>\n",
       "      <td>NaN</td>\n",
       "      <td>1200-1259</td>\n",
       "      <td>1</td>\n",
       "      <td>0</td>\n",
       "      <td>NaN</td>\n",
       "      <td>0</td>\n",
       "      <td>0</td>\n",
       "      <td>0</td>\n",
       "      <td>1</td>\n",
       "    </tr>\n",
       "    <tr>\n",
       "      <th>2</th>\n",
       "      <td>2015</td>\n",
       "      <td>2</td>\n",
       "      <td>2</td>\n",
       "      <td>2015-02-03</td>\n",
       "      <td>19805</td>\n",
       "      <td>1</td>\n",
       "      <td>12478</td>\n",
       "      <td>31703</td>\n",
       "      <td>12892</td>\n",
       "      <td>32575</td>\n",
       "      <td>...</td>\n",
       "      <td>0</td>\n",
       "      <td>-1</td>\n",
       "      <td>1200-1259</td>\n",
       "      <td>0</td>\n",
       "      <td>0</td>\n",
       "      <td>NaN</td>\n",
       "      <td>0</td>\n",
       "      <td>0</td>\n",
       "      <td>0</td>\n",
       "      <td>1</td>\n",
       "    </tr>\n",
       "    <tr>\n",
       "      <th>3</th>\n",
       "      <td>2015</td>\n",
       "      <td>2</td>\n",
       "      <td>3</td>\n",
       "      <td>2015-02-04</td>\n",
       "      <td>19805</td>\n",
       "      <td>1</td>\n",
       "      <td>12478</td>\n",
       "      <td>31703</td>\n",
       "      <td>12892</td>\n",
       "      <td>32575</td>\n",
       "      <td>...</td>\n",
       "      <td>0</td>\n",
       "      <td>-1</td>\n",
       "      <td>1200-1259</td>\n",
       "      <td>0</td>\n",
       "      <td>0</td>\n",
       "      <td>NaN</td>\n",
       "      <td>0</td>\n",
       "      <td>0</td>\n",
       "      <td>0</td>\n",
       "      <td>1</td>\n",
       "    </tr>\n",
       "    <tr>\n",
       "      <th>4</th>\n",
       "      <td>2015</td>\n",
       "      <td>2</td>\n",
       "      <td>4</td>\n",
       "      <td>2015-02-05</td>\n",
       "      <td>19805</td>\n",
       "      <td>1</td>\n",
       "      <td>12478</td>\n",
       "      <td>31703</td>\n",
       "      <td>12892</td>\n",
       "      <td>32575</td>\n",
       "      <td>...</td>\n",
       "      <td>0</td>\n",
       "      <td>-1</td>\n",
       "      <td>1200-1259</td>\n",
       "      <td>0</td>\n",
       "      <td>0</td>\n",
       "      <td>NaN</td>\n",
       "      <td>0</td>\n",
       "      <td>0</td>\n",
       "      <td>0</td>\n",
       "      <td>1</td>\n",
       "    </tr>\n",
       "  </tbody>\n",
       "</table>\n",
       "<p>5 rows × 25 columns</p>\n",
       "</div>"
      ],
      "text/plain": [
       "   YEAR  MONTH  DAY_OF_WEEK     FL_DATE  AIRLINE_ID  FL_NUM  \\\n",
       "0  2015      2            7  2015-02-01       19805       1   \n",
       "1  2015      2            1  2015-02-02       19805       1   \n",
       "2  2015      2            2  2015-02-03       19805       1   \n",
       "3  2015      2            3  2015-02-04       19805       1   \n",
       "4  2015      2            4  2015-02-05       19805       1   \n",
       "\n",
       "   ORIGIN_AIRPORT_ID  ORIGIN_CITY_MARKET_ID  DEST_AIRPORT_ID  \\\n",
       "0              12478                  31703            12892   \n",
       "1              12478                  31703            12892   \n",
       "2              12478                  31703            12892   \n",
       "3              12478                  31703            12892   \n",
       "4              12478                  31703            12892   \n",
       "\n",
       "   DEST_CITY_MARKET_ID     ...      ARR_DEL15  ARR_DELAY_GROUP  ARR_TIME_BLK  \\\n",
       "0                32575     ...              0               -2     1200-1259   \n",
       "1                32575     ...            NaN              NaN     1200-1259   \n",
       "2                32575     ...              0               -1     1200-1259   \n",
       "3                32575     ...              0               -1     1200-1259   \n",
       "4                32575     ...              0               -1     1200-1259   \n",
       "\n",
       "  CANCELLED  DIVERTED  Unnamed: 20  Bad_Indicator Bad_Hour  Bad_Day  \\\n",
       "0         0         0          NaN              0        0        0   \n",
       "1         1         0          NaN              0        0        0   \n",
       "2         0         0          NaN              0        0        0   \n",
       "3         0         0          NaN              0        0        0   \n",
       "4         0         0          NaN              0        0        0   \n",
       "\n",
       "   Bad_Flight  \n",
       "0           1  \n",
       "1           1  \n",
       "2           1  \n",
       "3           1  \n",
       "4           1  \n",
       "\n",
       "[5 rows x 25 columns]"
      ]
     },
     "execution_count": 115,
     "metadata": {},
     "output_type": "execute_result"
    }
   ],
   "source": [
    "df1b = pd.read_csv('1-15.csv', dtype={'DEP_TIME_BLK':object})\n",
    "df2b = pd.read_csv('2-15.csv', dtype={'DEP_TIME_BLK':object})\n",
    "df3b = pd.read_csv('3-15.csv', dtype={'DEP_TIME_BLK':object})\n",
    "df4b = pd.read_csv('4-15.csv', dtype={'DEP_TIME_BLK':object})\n",
    "df5b = pd.read_csv('5-15.csv', dtype={'DEP_TIME_BLK':object})\n",
    "df6b = pd.read_csv('6-15.csv', dtype={'DEP_TIME_BLK':object})\n",
    "df7b = pd.read_csv('7-15.csv', dtype={'DEP_TIME_BLK':object})\n",
    "df8b = pd.read_csv('8-15.csv', dtype={'DEP_TIME_BLK':object})\n",
    "df9b = pd.read_csv('9-15.csv', dtype={'DEP_TIME_BLK':object})\n",
    "\n",
    "frames = [df1b,df2b,df3b,df4b,df5b,df6b,df7b,df8b,df9b]\n",
    "dftest = pd.concat(frames)\n",
    "\n",
    "#create new indicator vars\n",
    "dftest['Bad_Indicator'] = ((dftest['DEP_DEL15'] == 1) | (dftest['ARR_DEL15'] == 1)).astype(int)\n",
    "#create bad_hour\n",
    "dummies = pd.get_dummies(dftest['DEP_TIME_BLK'])\n",
    "dftest['Bad_Hour'] = ((dummies['2000-2059'] == 1) | (dummies['1900-1959'] == 1) | (dummies['1800-1859'] == 1) | (dummies['2100-2159'] == 1) | (dummies['1700-1759'] == 1) | (dummies['1600-1659'] == 1) | (dummies['1500-1559'] == 1 | (dummies['1400-1459'] == 1) | (dummies['1300-1359'] == 1) | (dummies['2200-2259'] == 1) )).astype(int)\n",
    "#create bad_day\n",
    "dftest['Bad_Day'] = (dftest['FL_DATE'].values[0] in bad_days)\n",
    "dftest['Bad_Day'] = dftest['Bad_Day'].astype(int)\n",
    "#create bad_flight\n",
    "dftest['Bad_Flight'] = (dftest['FL_NUM'].values[0] in bad_flights)\n",
    "dftest['Bad_Flight'] = dftest['Bad_Flight'].astype(int)\n",
    "\n",
    "dftest.head()"
   ]
  },
  {
   "cell_type": "markdown",
   "metadata": {},
   "source": [
    "# Initialize our training/test dataframes\n",
    "\n",
    "Note: the final variables I ended up using were Month, Airline, Origin Airport, Destination Airport, Bad Hour, Bad Day, Bad Flight, and Day of Week.\n",
    "\n",
    "I experimented with combinations of other variables, with the goal of maximizing true negatives. This is super important, because overall accuracy is not the ultimate goal, because I can get 77% accuracy by always predicting 0, and never predicting 1 (delayed) - but that's not a very helpful model, and has 0% accuracy on true negatives. \n",
    "\n",
    "I found that including less variables resulted in higher overall accuracy, but lower accuracy on true negatives. This is because the model just ended up making very little predictions for delayed flights.\n",
    "\n",
    "I found that with this final combination of factors, overall accuracy actually decreased to 73%, but you go from predicting correctly 0 out of 1 million true negatives, to predicting around 200k /1 Million true negatives."
   ]
  },
  {
   "cell_type": "code",
   "execution_count": 119,
   "metadata": {
    "collapsed": false
   },
   "outputs": [],
   "source": [
    "import numpy as np\n",
    "from sklearn import linear_model as LM\n",
    "from sklearn.metrics import confusion_matrix, precision_recall_fscore_support, accuracy_score\n",
    "\n",
    "#variables we will train on\n",
    "\n",
    "cols = ['MONTH', 'AIRLINE_ID', 'ORIGIN_AIRPORT_ID', 'DEST_AIRPORT_ID', 'Bad_Hour', 'Bad_Day', 'Bad_Flight', 'DAY_OF_WEEK']\n",
    "\n",
    "train_y = df['Bad_Indicator'] > 0\n",
    "train_x = df[cols]\n",
    "\n",
    "#test sets\n",
    "test_y = dftest['Bad_Indicator'] > 0\n",
    "test_x = dftest[cols]\n"
   ]
  },
  {
   "cell_type": "markdown",
   "metadata": {
    "collapsed": true
   },
   "source": [
    "# Using a Random Forest Classifier\n",
    "In the appendix, I briefly tried out some other classifiers (SVM, logistic regression), which perform pretty poorly. Random forest is a very effective technique in my opinion, especially with categorical features.\n",
    "\n",
    "I experimented and found that increasing the number of trees past 10 does not increase overall accuracy nor does it improve true negative accuracy. All it does is make my 5 year old computer incredibly slow."
   ]
  },
  {
   "cell_type": "code",
   "execution_count": 120,
   "metadata": {
    "collapsed": false
   },
   "outputs": [
    {
     "name": "stdout",
     "output_type": "stream",
     "text": [
      "Confusion matrix\n",
      "         0       1\n",
      "0  2988364  387616\n",
      "1   815338  194394\n",
      "\n",
      "precision = 0.33, recall = 0.19, F1 = 0.24, accuracy = 0.73\n",
      "\n"
     ]
    }
   ],
   "source": [
    "from sklearn.ensemble import RandomForestClassifier\n",
    "\n",
    "# Create Random Forest classifier with 10 trees\n",
    "rforest = RandomForestClassifier(n_estimators=10, n_jobs=-1)\n",
    "rforest.fit(train_x, train_y)\n",
    "\n",
    "# Evaluate on test set\n",
    "predict = rforest.predict(test_x)\n",
    "\n",
    "# print results\n",
    "cm = confusion_matrix(test_y, predict)\n",
    "print(\"Confusion matrix\")\n",
    "print(pd.DataFrame(cm))\n",
    "report_svm = precision_recall_fscore_support(list(test_y), list(predict), average='binary')\n",
    "print \"\\nprecision = %0.2f, recall = %0.2f, F1 = %0.2f, accuracy = %0.2f\\n\" % \\\n",
    "        (report_svm[0], report_svm[1], report_svm[2], accuracy_score(list(test_y), list(predict)))"
   ]
  },
  {
   "cell_type": "markdown",
   "metadata": {},
   "source": [
    "# Summary / Ideas for Next Steps / Improving the model\n",
    "\n",
    "Our model has 73% overall accuracy: 88% accuracy on true positives, and around 20% on true negative. Of course, the 20% on true negative is not ideal, so here are some ideas moving forward to improve the performance of our model:\n",
    "\n",
    "### 1. Incorporate weather data\n",
    "I think the single most significant thing we can do to improve our model is include the variable of weather. Heuristically, weather seems one of the most significant factors in causing flight delays, and it is currently not accounted for in our model. If I had more time, I would add the categorical feature of weather for both the origin and destination airport. \n",
    "\n",
    "### 2. More Training Data\n",
    "Our model might also be improved upon by increasing the size of the training data. Currently we are only using 2014 data, which makes the features of \"calendar date\" relatively biased to local events (for example, if there was an air traffic control striek on January 18th, 2014). Adding other years' data would help.\n",
    "\n",
    "### 3. Multiclass Classification\n",
    "Currently we are looking to predict the value of \"Bad_Flight\", whether or not a flight is delayed by 15 minutes or longer. In future models, we might like to be more granular than this, and split it up into different variables. For example, we could train our model to predict whether a flight will be 15 mins - 1 hour delayed, 1 hour-2 hour delayed, or 2+ hours delayed. We could also train our model to predict diverted or cancelled flights.\n",
    "\n",
    "### 4. Multiple Correspondence Analysis\n",
    "Previously we selected features almost heuristically: we hypothesized which features would be significant, plotted some basic bar graphs, and then performed trial-and-error testing to see which combination resulted in best performance on the test data. Instead, we can use MCA (essentially the categorical analogue of PCA) to see if we can do better. Performing MCA on the whole 2014 data would take too long because it's takes roughly n^3 time, and we have 5.8 million samples in 2014, but we could create a smaller dataset to perform MCA on, and then apply those \"features\" to the rest of the model."
   ]
  },
  {
   "cell_type": "markdown",
   "metadata": {},
   "source": [
    "# Appendix: Mainly the performance of other classification techniques. SVM, logistic regression, and neural nets perform worse than random forest\n",
    "\n",
    "Interestingly, both SVM and Logistical Classification seem to be much more aggressive at predicting delayed flights, so get more True Negatives, but they are so aggressive that they result in a large decrease in overall accuracy."
   ]
  },
  {
   "cell_type": "markdown",
   "metadata": {
    "collapsed": true
   },
   "source": [
    "## Let's try an SVM Classification Model\n",
    "Our random forest model seems to be doing pretty well, but let's just see if an SVM model will yield better results on the test data. In general, SVM's don't scale very well so we will use the more scalable LinearSVC. Note that since we have so many more samples than we have features, it will be significantly easier to solve the dual problem than the primal problem."
   ]
  },
  {
   "cell_type": "code",
   "execution_count": 121,
   "metadata": {
    "collapsed": false
   },
   "outputs": [
    {
     "name": "stdout",
     "output_type": "stream",
     "text": [
      "Confusion matrix\n",
      "         0        1\n",
      "0  2216709  1159271\n",
      "1   501732   508000\n",
      "\n",
      "precision = 0.30, recall = 0.50, F1 = 0.38, accuracy = 0.62\n",
      "\n"
     ]
    }
   ],
   "source": [
    "from sklearn.svm import LinearSVC\n",
    "\n",
    "svmclass = LinearSVC(C = 1.0, class_weight='balanced', dual=False)\n",
    "svmclass.fit(train_x,train_y)\n",
    "\n",
    "# Evaluate on test set\n",
    "predict = svmclass.predict(test_x)\n",
    "\n",
    "# print results\n",
    "cm = confusion_matrix(test_y, predict)\n",
    "print(\"Confusion matrix\")\n",
    "print(pd.DataFrame(cm))\n",
    "report_svm = precision_recall_fscore_support(list(test_y), list(predict), average='binary')\n",
    "print \"\\nprecision = %0.2f, recall = %0.2f, F1 = %0.2f, accuracy = %0.2f\\n\" % \\\n",
    "        (report_svm[0], report_svm[1], report_svm[2], accuracy_score(list(test_y), list(predict)))\n"
   ]
  },
  {
   "cell_type": "markdown",
   "metadata": {},
   "source": [
    "## Logistic Classification"
   ]
  },
  {
   "cell_type": "code",
   "execution_count": 122,
   "metadata": {
    "collapsed": false
   },
   "outputs": [
    {
     "name": "stdout",
     "output_type": "stream",
     "text": [
      "Confusion matrix\n",
      "         0        1\n",
      "0  2213490  1162490\n",
      "1   500964   508768\n",
      "\n",
      "precision = 0.30, recall = 0.50, F1 = 0.38, accuracy = 0.62\n",
      "\n"
     ]
    }
   ],
   "source": [
    "#train\n",
    "classifier = LM.LogisticRegression(penalty='l2', class_weight='balanced')\n",
    "classifier.fit(train_x, train_y)\n",
    "\n",
    "#predict\n",
    "predict = classifier.predict(test_x)\n",
    "\n",
    "# display evaluation metrics\n",
    "cm = confusion_matrix(test_y, predict)\n",
    "print(\"Confusion matrix\")\n",
    "print(pd.DataFrame(cm))\n",
    "report_lr = precision_recall_fscore_support(list(test_y), list(predict), average='binary')\n",
    "print \"\\nprecision = %0.2f, recall = %0.2f, F1 = %0.2f, accuracy = %0.2f\\n\" % \\\n",
    "        (report_lr[0], report_lr[1], report_lr[2], accuracy_score(list(test_y), list(predict)))"
   ]
  },
  {
   "cell_type": "markdown",
   "metadata": {},
   "source": [
    "## Let's try a neural net model as well, just for kicks\n",
    "We'll use the adam algorithm which performs better for large datasets."
   ]
  },
  {
   "cell_type": "code",
   "execution_count": null,
   "metadata": {
    "collapsed": false
   },
   "outputs": [],
   "source": [
    "from sklearn.neural_network.multilayer_perceptron import MLPClassifier\n",
    "\n",
    "neuralnet = MLPClassifier(algorithm='adam', activation='logistic', alpha=1e-5, hidden_layer_sizes=(3))\n",
    "#neuralnet = MLPClassifier()\n",
    "neuralnet.fit(train_x,train_y)\n",
    "predict = neuralnet.predict(test_x)\n",
    "\n",
    "# print results\n",
    "cm = confusion_matrix(test_y, predict)\n",
    "print(\"Confusion matrix\")\n",
    "print(pd.DataFrame(cm))\n",
    "report_svm = precision_recall_fscore_support(list(test_y), list(predict), average='binary')\n",
    "print \"\\nprecision = %0.2f, recall = %0.2f, F1 = %0.2f, accuracy = %0.2f\\n\" % \\\n",
    "        (report_svm[0], report_svm[1], report_svm[2], accuracy_score(list(test_y), list(predict)))"
   ]
  }
 ],
 "metadata": {
  "kernelspec": {
   "display_name": "Python 2",
   "language": "python",
   "name": "python2"
  },
  "language_info": {
   "codemirror_mode": {
    "name": "ipython",
    "version": 2
   },
   "file_extension": ".py",
   "mimetype": "text/x-python",
   "name": "python",
   "nbconvert_exporter": "python",
   "pygments_lexer": "ipython2",
   "version": "2.7.10"
  }
 },
 "nbformat": 4,
 "nbformat_minor": 0
}
